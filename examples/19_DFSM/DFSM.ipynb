{
 "cells": [
  {
   "cell_type": "markdown",
   "id": "d5f9f236",
   "metadata": {},
   "source": [
    "This notebook builds on `Preprocessing.ipynb' and uses the data to construct surrogate models that can be used for controller optimization studies.\n",
    "\n"
   ]
  },
  {
   "attachments": {},
   "cell_type": "markdown",
   "id": "4fe70129",
   "metadata": {},
   "source": [
    "#  Surrogate Model for Controller Gains Optimization\n",
    "\n",
    "Models that balance accuracy against computational costs are advantageous when designing floating offshore wind turbines (FOWT) using OpenFAST as the high-fidelity model through optimization studies, as several hundred predictive function evaluations might be necessary to identify the optimal solution. \n",
    "\n",
    "OpenFAST models the dynamic response of FOWT systems as a system of differential-algebraic equations (DAE).\n",
    "Whenever OpenFAST is evaluated for a load case, this DAE system is solved to obtain the dynamic response of the FOWT. OpenFAST also uses different modules like AeroDyn, Hydrodyn etc. to capture the appropriate physics.\n",
    "Therefore evaluating OpenFAST can be computationally expensive, making it unsuitable for optimization based studies where several hundred model evaluations might be required.\n",
    "\n",
    "## Surrogate Model Requirements\n",
    "\n",
    "Consider the following figure illustrating the steps involved in a controller optimization study:\n",
    "\n",
    "<img src=\"EAB-copt.svg\" width=\"600\"/>\n",
    "\n",
    "The goal is to develop a surrogate model to replace the aero-hydro-servo-elastic model that can predict the timeseries of outputs given the inputs and controls. Once constructed, this model can then be coupled with the controller as shown in the figure:\n",
    "\n",
    "<img src=\"SM2.svg\" width=\"800\"/>\n",
    "\n",
    "\n",
    "There are different approaches that can be used to construct such a surrogate model such as classic system identification (sys-id) methods and long-short-term memory (LSTM) networks.\n",
    "These methods can be classified as 'black-box' approaches to map the inputs to the outputs. They have been widely utilized for various complex engineering systems.\n",
    "\n",
    "However, in this example we use the derivative function surrogate modeling (DFSM) approach to construct the surrogate model.\n",
    "\n",
    "## Derivative Function Surrogate Model (DFSM)\n",
    "\n",
    "DFSM are surrogate models of the dynamic function or derivative function, that describes how the state derivatives evolve for the given system.\n",
    "A key assumption that is made when using DFSM approach is that the system dynamics can be described by an ordinary differential equation (ODE) of the following form:\n",
    "    \\begin{align}\n",
    "            \\dot{\\xi} &= f(\\xi,u)\\\\\n",
    "            y &= g(\\xi,u)\n",
    "    \\end{align}\n",
    "Where $\\xi$ denotes the states, $u$ denotes the controls, $y$ denotes the outputs, and $f$, $g$ correspond to the state derivative and output functions respectively.      \n",
    "\n",
    "DFSM approximates $f$ and $g$ as:\n",
    "    \\begin{align}\n",
    "        \\dot{\\xi} &\\approx f_{\\text{DFSM}}(\\xi,u)\\\\\n",
    "        y &\\approx g_{\\text{DFSM}}(\\xi,u) \\\\\n",
    "    \\end{align}\n",
    "\n",
    "Unlike the aforementioned black-box approaches, the DFSM approach allows the user to prescribe a relation between the quantities approximated. In this study, we assume that the underlying ODE can be approximated as an linear-parameter varying (LPV) system, where the key parameter is the current speed ($v$):\n",
    "    \\begin{align}\n",
    "        f_{\\text{DFSM}}(\\xi,u) = A(v)\\xi + B(v)u\\\\\n",
    "        g_{\\text{DFSM}}(\\xi,u) = C(v)\\xi + D(v)u \\\\\n",
    "    \\end{align}\n"
   ]
  },
  {
   "cell_type": "markdown",
   "id": "84e0bffc",
   "metadata": {},
   "source": [
    "## Model Construction\n",
    "\n",
    "### Inputs\n",
    "The inputs when constructing the DFSM are turbulent OpenFAST simulations for different current speeds. More details regarding these inputs, and how they are preprocessed can be found in `Preprocessing.ipynb'.\n",
    "\n",
    "Once the inputs are available and preprocessed, then the LPV model is constructed as follows:\n",
    "1. Individual state-space matrices $\\Sigma = [A,B,C,D]$ are obtained for different current speeds values $v$\n",
    "2. The system matrices $\\Sigma$ are then linearly interpolated over $v$ to obtain a continuous model. For more details regarding LPV modeling, please refer to [https://doi.org/10.1115/1.4063969](https://doi.org/10.1115/1.4063969) \n",
    "\n",
    "### Obtaining linear models\n",
    "We solve an optimization problem to obtain the system matrices $\\Sigma$. The $A$ and $B$ matrices are evaluated as part of one problem, and the $C$ and $D$ matrices are evaluate separately, as they predict different quantities, and have different requirements.\n",
    "\n",
    "\n",
    "For each current speed, an optimization problem is solved to identify the model parameters ($\\theta$) for the A and B matrices, and can be formulated as:\n",
    "\\begin{align}\n",
    "    \\min_{\\theta} \\frac{Tr(E'*E)}{N} \\\\\n",
    "    \\text{s.t} \\quad max(real(eig(A(\\theta))) < -\\delta\\\\\n",
    "    \\text{where:} \\quad E = \\dot{\\xi}_{\\text{act}} - \\dot{\\xi}_{\\text{DFSM}}\\\\\n",
    "                     \\dot{\\xi}_{\\text{DFSM}} = A(\\theta)\\xi + B(\\theta)u  \\\\\n",
    "                     Tr~ \\text{is the trace operation}\n",
    "\\end{align}\n",
    "The constraint on the eigen value is required to ensure the the simulations and the state-space system remain stable.\n",
    "We use a hybrid optimization strategy to solve this problem. A genetic algorithm is used to get a good initial estimate of $\\theta$, then a gradient-based optimizer using the interior-point algorithm is used to solve the problem. \n",
    "The python script 'construct_DFSM.py' will formulate and solve this problem. The rest of this notebook can be considered supplementary material to explain how the problem is constructed and solved, and also offers some hueristics to setup the problem.\n"
   ]
  },
  {
   "cell_type": "markdown",
   "id": "4d96c73c-f986-4bf3-8287-1df418f84145",
   "metadata": {},
   "source": [
    "## construct_DFSM.py Requirements\n",
    "The script `construct_DFSM.py' constructs and solves the optimization problem used in constructing the DFSM. The main requirement to run this script is the matlab api required to call matlab from python, and the OpenFAST simulation data. \n",
    "\n",
    "### Matlab API\n",
    "Currently, this script uses the genetric algorithm solver, and the nonlinear optimizer fmincon in matlab to solve the optimization problem.\n",
    "To do this, we use the matlab api to interface with these optimizers. Please refer to the following link on how to install the matlab API: [https://www.mathworks.com/help/matlab/matlab-engine-for-python.html](https://www.mathworks.com/help/matlab/matlab-engine-for-python.html)\n",
    "\n",
    "### Compatability\n",
    "It is important to note that matlab version 2024b is required for python version 3.12. More details regarding the compatability can be found in [https://www.mathworks.com/support/requirements/python-compatibility.html](https://www.mathworks.com/support/requirements/python-compatibility.html). \n",
    "\n"
   ]
  },
  {
   "cell_type": "markdown",
   "id": "25e37d2e-c2ee-4293-a494-d588c627ed5d",
   "metadata": {},
   "source": [
    "## Inputs\n",
    "Other than the matlab api, the main requirements to this file are the openfast simulations, and its details.\n",
    "The rest of this notebook uses the simulations results available in the following directory: \n",
    "[https://colostate-my.sharepoint.com/:f:/g/personal/athulsun_colostate_edu/EqE_WXKZXedDra_j38rAkGEBuOxB1gv7WjpFgqNEvd4ypQ?e=rB9lIb](https://colostate-my.sharepoint.com/:f:/g/personal/athulsun_colostate_edu/EqE_WXKZXedDra_j38rAkGEBuOxB1gv7WjpFgqNEvd4ypQ?e=rB9lIb)\n",
    "\n",
    "The folder contains two subfolders RM1_train, and RM1_test, which will be used in training and testing the the DFSM respectively.\n",
    "\n",
    "For the simulations in these folders, three degrees of freedom we enabled, namely the Ptfmpitch, PtfmHeave, and GenSpeed. So these three quantities, along with their first derivatives will be states $\\xi$ as part of the DFSM model.\n",
    "\n",
    "The controls $u$ will be the rotor average wind speed 'RtVAvgxh', generator torque 'GenTq', blade pitch 'BldPitch1', and the wave elevation 'Wave1Elev'.\n",
    "\n",
    "The outputs $y$ considered are tower-base fore-aft force 'TwrBsFxt', tower-base fore-aft moment 'TwrBsMyt', tower-top translational acceleration 'YawBrTAxp', tower-top rotational acceleration 'NcIMURAys', generator power 'GenPwr', fluid Cp and Ct 'RtFldCp','RtFldCt'.\n",
    "\n",
    "The generator speed for the considered turbine model is two orders of magnitude higher than the other two states. This quantity is scaled so that it does not adversely affect the results of the optimization problem.\n"
   ]
  },
  {
   "cell_type": "markdown",
   "id": "63280041-8b4d-4c2a-9828-06aacb23f59c",
   "metadata": {},
   "source": [
    "## Parameter Estimation\n",
    "The OpenFAST simulations are preproceesed as discussed in `Preprocessing.ipynb'. Suppose we are working with 3 current speeds $c = (c_1,c_2,c_3)$, with 5 simulations each, the preprocessed data is organized accordingly:\n",
    "\\begin{align*}\n",
    "    \\begin{bmatrix} c_1^1 &c_2^1 & c_3^1 \\\\ c_1^2 &c_2^2 & c_3^2 \\\\ c_1^3 &c_2^3 & c_3^3 \\\\c_1^4 &c_2^4 & c_3^4 \\\\c_1^5 &c_2^5 & c_3^5 \\end{bmatrix}\n",
    "\\end{align*}\n",
    "\n",
    "For each current speed, the optimization problem outlined above is solved to obtain the system matrics $[A_{c_1},B_{c_1},C_{c_1},D_{c_1}]$, and these matrices are interpolated over $c$.\n",
    "\n",
    "\n",
    "1. Suppose the optimization starts for current speed $c_1$, a genetic algorithm is used to identify a good starting point, and then the interior point solver is used to identify a local minima.\n",
    "2. Then the optimization proceeds to identify the system matrices for current speed $c_2$. For $c_2$, the genetic algorithm is not used to identify a good starting point, instead the interior-point is solver is started directly with the parameters identified for $c_1$ as the starting point. This helps in minimizing the total model construction time.\n",
    "3. Since the model identified for $c_1$ satisfies the constraints on the eigen value, the interior-point solver can efficiently find the optimal model parameters.\n",
    "4. Subsequently, the model parameters identified for $c_2$ are used for $c_3$.\n",
    "5. For this floating system, the entries in the $C,D$ matrices for the NcIMURAys quantity is approximated with the $A,B$ matrix entries for the second time derivative of the platform pitch.\n",
    "\n"
   ]
  },
  {
   "cell_type": "markdown",
   "id": "51ac8ef7-01b4-4a3b-93d5-05b154ade284",
   "metadata": {},
   "source": [
    "## Huersitics \n",
    "Although this process is straight forward, the accuracy and stability of the constructed model depends on a few hyperparameters, namely:\n",
    "1. The current speed from which the process is started\n",
    "2. The parameter $\\delta$ which is the upper limit on the real part of the eigen value\n",
    "3. The number of simulations per current speed used in the optimization problem\n",
    "\n",
    "Some tips to select the value of these hyperparameters are as follows:\n",
    "1. Starting from a near rated current speed usually results in an accurate model\n",
    "2. Typically, when the quantities are properly sclaed, setting $\\delta = 0$ results in an accurate model. But sometimes, when setting $\\delta = 0$, and if the constraint tolerence is set to $1e-4$, the optimizer can find a solution with the maximium real part to be $-1e-6$ which would satisfy the constraint, but result in a model with undamped response. In these cases, setting $\\delta$ to be a small value $ \\delta \\leq 0.1$ would solve the issue.\n",
    "3. Using 5 simulations for each current speed, usually results in an accurate model.\n",
    "\n",
    "The dfsm included in the folder 19_DFSM was obtained by setting w_start to 2.4, and setting $\\delta = 0$. The user is encouraged to play around with these hyperparameters to identify an accurate surrogate for their use case. "
   ]
  },
  {
   "cell_type": "markdown",
   "id": "4517426b-22f3-468f-8df8-20751fd35161",
   "metadata": {},
   "source": [
    "## Validation\n",
    "\n",
    "### Open-loop validation\n",
    "1. To get an idea if the constructed surrogate model is accurate, an 'open-loop' validation test is run, where the model is simulated for a set of control signal from a test simulation, and the resulting states and outputs are compared to the OpenFAST simulation. \n",
    "2. The results of this test is plotted to the folder 'outputs/open-loop-validation'.\n",
    "3. This test should give you an approximate idea on the construction process results in an accurate and stable model.\n",
    "4. Some key states and outputs like GenSpeed, NcIMURAys, YarBrTAxp are important, as these quantities are the main feedback variables for closed-loop simulation.\n",
    "5. A high degree of accuracy is required for GenSpeed.\n",
    "6. For the other quantities it is important to check if the response is stable. Since these are second time derivatives, they tend to be noisy, and a high deal of accuracy can be hard.\n",
    "7. If the results are unsatisfactory, then play around with the hyperparameters mentioned previously to get a good model.\n",
    "\n"
   ]
  },
  {
   "cell_type": "markdown",
   "id": "b36514f9-0e49-465a-bf6f-5e1c3991ec73",
   "metadata": {},
   "source": [
    "### Closed-loop validation\n",
    "1. Once the user finds the results of this test to be satisfactory, they are encouraged to run the script 'run_CL_validation.py', which runs a closed-loop validation test, where the DFSM is used as the 'plant' in a closed-loop simulation with the ROSCO controller.\n",
    "2. The simulations available in the folder 'RM1_test' are used for this validation study.\n",
    "3. This scipt is MPI parallelizable, and plots the time-series signals of the closed-loop simulation, including the controls, states, and outputs obtained using the DFSM and OpenFAST along with the power spectral density (PSD) of key quantities to the folder 'outputs/closed-loop-validation'.\n",
    "4. The results from this test will give the user a good idea if the DFSM can be effectively used for closed-loop simulation, and controller optimization studies.\n",
    "5. In addition to the quantities outlined in the open-loop validation study, comparing the two control signals, BldPitch1 and GenTq, and how testing how close they are to the OpenFAST values is the main focus of this test\n",
    "6. The posprocessing logic from WEIS is used to postprocess these results and obtain the summary statistics, DELs"
   ]
  },
  {
   "cell_type": "code",
   "execution_count": null,
   "id": "c2a80905-9df3-410e-9594-f0e775e037c5",
   "metadata": {},
   "outputs": [],
   "source": []
  }
 ],
 "metadata": {
  "kernelspec": {
   "display_name": "Python 3 (ipykernel)",
   "language": "python",
   "name": "python3"
  },
  "language_info": {
   "codemirror_mode": {
    "name": "ipython",
    "version": 3
   },
   "file_extension": ".py",
   "mimetype": "text/x-python",
   "name": "python",
   "nbconvert_exporter": "python",
   "pygments_lexer": "ipython3",
   "version": "3.12.7"
  }
 },
 "nbformat": 4,
 "nbformat_minor": 5
}
